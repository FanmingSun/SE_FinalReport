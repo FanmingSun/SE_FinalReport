{
  "nbformat": 4,
  "nbformat_minor": 0,
  "metadata": {
    "colab": {
      "name": "21.multihead-attention.ipynb",
      "version": "0.3.2",
      "provenance": []
    },
    "language_info": {
      "codemirror_mode": {
        "name": "ipython",
        "version": 3
      },
      "file_extension": ".py",
      "mimetype": "text/x-python",
      "name": "python",
      "nbconvert_exporter": "python",
      "pygments_lexer": "ipython3",
      "version": "3.6.8"
    },
    "kernelspec": {
      "display_name": "Python 3",
      "language": "python",
      "name": "python3"
    }
  },
  "cells": [
    {
      "cell_type": "code",
      "metadata": {
        "id": "ABqDjEg3dN8f",
        "colab_type": "code",
        "colab": {}
      },
      "source": [
        "import tensorflow as tf\n",
        "import numpy as np\n",
        "import matplotlib.pyplot as plt\n",
        "import seaborn as sns\n",
        "import pandas as pd\n",
        "from sklearn.preprocessing import MinMaxScaler\n",
        "from datetime import datetime\n",
        "from datetime import timedelta\n",
        "sns.set()"
      ],
      "execution_count": 0,
      "outputs": []
    },
    {
      "cell_type": "code",
      "metadata": {
        "id": "4XczSNPKdN8i",
        "colab_type": "code",
        "outputId": "13c154bb-1af7-4b3a-af86-7ff40bf29469",
        "colab": {
          "base_uri": "https://localhost:8080/",
          "height": 214
        }
      },
      "source": [
        "from google.colab import drive\n",
        "drive.mount('/content/gdrive')\n",
        "df = pd.read_csv('/content/gdrive/My Drive/Stock-Prediction-Models-master/dataset/uploaded.csv')\n",
        "date_ori = pd.to_datetime(df.iloc[:, 0]).tolist()\n",
        "df.head()"
      ],
      "execution_count": 0,
      "outputs": [
        {
          "output_type": "stream",
          "text": [
            "Drive already mounted at /content/gdrive; to attempt to forcibly remount, call drive.mount(\"/content/gdrive\", force_remount=True).\n"
          ],
          "name": "stdout"
        },
        {
          "output_type": "execute_result",
          "data": {
            "text/html": [
              "<div>\n",
              "<style scoped>\n",
              "    .dataframe tbody tr th:only-of-type {\n",
              "        vertical-align: middle;\n",
              "    }\n",
              "\n",
              "    .dataframe tbody tr th {\n",
              "        vertical-align: top;\n",
              "    }\n",
              "\n",
              "    .dataframe thead th {\n",
              "        text-align: right;\n",
              "    }\n",
              "</style>\n",
              "<table border=\"1\" class=\"dataframe\">\n",
              "  <thead>\n",
              "    <tr style=\"text-align: right;\">\n",
              "      <th></th>\n",
              "      <th>Unnamed: 0</th>\n",
              "      <th>2330.TW</th>\n",
              "      <th>TWD</th>\n",
              "      <th>TAIEX</th>\n",
              "      <th>SOX</th>\n",
              "      <th>TAIBOR</th>\n",
              "      <th>DIJA</th>\n",
              "    </tr>\n",
              "  </thead>\n",
              "  <tbody>\n",
              "    <tr>\n",
              "      <th>0</th>\n",
              "      <td>2009/1/5</td>\n",
              "      <td>46.02</td>\n",
              "      <td>33.00</td>\n",
              "      <td>4698.31</td>\n",
              "      <td>223.29</td>\n",
              "      <td>1.02</td>\n",
              "      <td>8952.89</td>\n",
              "    </tr>\n",
              "    <tr>\n",
              "      <th>1</th>\n",
              "      <td>2009/1/6</td>\n",
              "      <td>45.37</td>\n",
              "      <td>33.10</td>\n",
              "      <td>4727.26</td>\n",
              "      <td>234.56</td>\n",
              "      <td>1.02</td>\n",
              "      <td>9015.10</td>\n",
              "    </tr>\n",
              "    <tr>\n",
              "      <th>2</th>\n",
              "      <td>2009/1/7</td>\n",
              "      <td>44.33</td>\n",
              "      <td>33.03</td>\n",
              "      <td>4789.84</td>\n",
              "      <td>223.12</td>\n",
              "      <td>1.02</td>\n",
              "      <td>8769.70</td>\n",
              "    </tr>\n",
              "    <tr>\n",
              "      <th>3</th>\n",
              "      <td>2009/1/8</td>\n",
              "      <td>41.34</td>\n",
              "      <td>33.10</td>\n",
              "      <td>4535.79</td>\n",
              "      <td>222.54</td>\n",
              "      <td>0.62</td>\n",
              "      <td>8742.46</td>\n",
              "    </tr>\n",
              "    <tr>\n",
              "      <th>4</th>\n",
              "      <td>2009/1/9</td>\n",
              "      <td>40.80</td>\n",
              "      <td>33.20</td>\n",
              "      <td>4502.74</td>\n",
              "      <td>215.28</td>\n",
              "      <td>0.62</td>\n",
              "      <td>8599.18</td>\n",
              "    </tr>\n",
              "  </tbody>\n",
              "</table>\n",
              "</div>"
            ],
            "text/plain": [
              "  Unnamed: 0  2330.TW    TWD    TAIEX     SOX  TAIBOR     DIJA\n",
              "0   2009/1/5    46.02  33.00  4698.31  223.29    1.02  8952.89\n",
              "1   2009/1/6    45.37  33.10  4727.26  234.56    1.02  9015.10\n",
              "2   2009/1/7    44.33  33.03  4789.84  223.12    1.02  8769.70\n",
              "3   2009/1/8    41.34  33.10  4535.79  222.54    0.62  8742.46\n",
              "4   2009/1/9    40.80  33.20  4502.74  215.28    0.62  8599.18"
            ]
          },
          "metadata": {
            "tags": []
          },
          "execution_count": 25
        }
      ]
    },
    {
      "cell_type": "code",
      "metadata": {
        "id": "vGmsL41wdN8m",
        "colab_type": "code",
        "outputId": "1eacd615-20ed-4dc0-c5d6-5e799bbd350d",
        "colab": {
          "base_uri": "https://localhost:8080/",
          "height": 197
        }
      },
      "source": [
        "minmax = MinMaxScaler().fit(df.iloc[:, 1:].astype('float32'))\n",
        "df_log = minmax.transform(df.iloc[:, 1:].astype('float32'))\n",
        "df_log = pd.DataFrame(df_log)\n",
        "df_log.head()"
      ],
      "execution_count": 0,
      "outputs": [
        {
          "output_type": "execute_result",
          "data": {
            "text/html": [
              "<div>\n",
              "<style scoped>\n",
              "    .dataframe tbody tr th:only-of-type {\n",
              "        vertical-align: middle;\n",
              "    }\n",
              "\n",
              "    .dataframe tbody tr th {\n",
              "        vertical-align: top;\n",
              "    }\n",
              "\n",
              "    .dataframe thead th {\n",
              "        text-align: right;\n",
              "    }\n",
              "</style>\n",
              "<table border=\"1\" class=\"dataframe\">\n",
              "  <thead>\n",
              "    <tr style=\"text-align: right;\">\n",
              "      <th></th>\n",
              "      <th>0</th>\n",
              "      <th>1</th>\n",
              "      <th>2</th>\n",
              "      <th>3</th>\n",
              "      <th>4</th>\n",
              "      <th>5</th>\n",
              "    </tr>\n",
              "  </thead>\n",
              "  <tbody>\n",
              "    <tr>\n",
              "      <th>0</th>\n",
              "      <td>0.029214</td>\n",
              "      <td>0.670641</td>\n",
              "      <td>0.065003</td>\n",
              "      <td>0.027305</td>\n",
              "      <td>1.000000</td>\n",
              "      <td>0.118623</td>\n",
              "    </tr>\n",
              "    <tr>\n",
              "      <th>1</th>\n",
              "      <td>0.026346</td>\n",
              "      <td>0.685544</td>\n",
              "      <td>0.069132</td>\n",
              "      <td>0.036271</td>\n",
              "      <td>1.000000</td>\n",
              "      <td>0.121691</td>\n",
              "    </tr>\n",
              "    <tr>\n",
              "      <th>2</th>\n",
              "      <td>0.021756</td>\n",
              "      <td>0.675112</td>\n",
              "      <td>0.078059</td>\n",
              "      <td>0.027169</td>\n",
              "      <td>1.000000</td>\n",
              "      <td>0.109591</td>\n",
              "    </tr>\n",
              "    <tr>\n",
              "      <th>3</th>\n",
              "      <td>0.008561</td>\n",
              "      <td>0.685544</td>\n",
              "      <td>0.041820</td>\n",
              "      <td>0.026708</td>\n",
              "      <td>0.534884</td>\n",
              "      <td>0.108248</td>\n",
              "    </tr>\n",
              "    <tr>\n",
              "      <th>4</th>\n",
              "      <td>0.006178</td>\n",
              "      <td>0.700447</td>\n",
              "      <td>0.037106</td>\n",
              "      <td>0.020932</td>\n",
              "      <td>0.534884</td>\n",
              "      <td>0.101183</td>\n",
              "    </tr>\n",
              "  </tbody>\n",
              "</table>\n",
              "</div>"
            ],
            "text/plain": [
              "          0         1         2         3         4         5\n",
              "0  0.029214  0.670641  0.065003  0.027305  1.000000  0.118623\n",
              "1  0.026346  0.685544  0.069132  0.036271  1.000000  0.121691\n",
              "2  0.021756  0.675112  0.078059  0.027169  1.000000  0.109591\n",
              "3  0.008561  0.685544  0.041820  0.026708  0.534884  0.108248\n",
              "4  0.006178  0.700447  0.037106  0.020932  0.534884  0.101183"
            ]
          },
          "metadata": {
            "tags": []
          },
          "execution_count": 26
        }
      ]
    },
    {
      "cell_type": "code",
      "metadata": {
        "id": "3seTrKChdN8p",
        "colab_type": "code",
        "colab": {}
      },
      "source": [
        "timestamp = 5\n",
        "epoch = 50\n",
        "future_day = 50"
      ],
      "execution_count": 0,
      "outputs": []
    },
    {
      "cell_type": "code",
      "metadata": {
        "id": "lz04cZ1QdN8r",
        "colab_type": "code",
        "colab": {}
      },
      "source": [
        "def embed_seq(\n",
        "    inputs, vocab_size = None, embed_dim = None, zero_pad = False, scale = False\n",
        "):\n",
        "    lookup_table = tf.get_variable(\n",
        "        'lookup_table', dtype = tf.float32, shape = [vocab_size, embed_dim]\n",
        "    )\n",
        "    if zero_pad:\n",
        "        lookup_table = tf.concat(\n",
        "            (tf.zeros([1, embed_dim]), lookup_table[1:, :]), axis = 0\n",
        "        )\n",
        "    outputs = tf.nn.embedding_lookup(lookup_table, inputs)\n",
        "    if scale:\n",
        "        outputs = outputs * (embed_dim ** 0.5)\n",
        "    return outputs\n",
        "\n",
        "\n",
        "def learned_positional_encoding(\n",
        "    inputs, embed_dim, zero_pad = False, scale = False\n",
        "):\n",
        "    T = inputs.get_shape().as_list()[1]\n",
        "    outputs = tf.range(T)\n",
        "    outputs = tf.expand_dims(outputs, 0)\n",
        "    outputs = tf.tile(outputs, [tf.shape(inputs)[0], 1])\n",
        "    return embed_seq(outputs, T, embed_dim, zero_pad = zero_pad, scale = scale)\n",
        "\n",
        "\n",
        "def layer_norm(inputs, epsilon = 1e-8):\n",
        "    mean, variance = tf.nn.moments(inputs, [-1], keep_dims = True)\n",
        "    normalized = (inputs - mean) / (tf.sqrt(variance + epsilon))\n",
        "    params_shape = inputs.get_shape()[-1:]\n",
        "    gamma = tf.get_variable(\n",
        "        'gamma', params_shape, tf.float32, tf.ones_initializer()\n",
        "    )\n",
        "    beta = tf.get_variable(\n",
        "        'beta', params_shape, tf.float32, tf.zeros_initializer()\n",
        "    )\n",
        "    return gamma * normalized + beta\n",
        "\n",
        "\n",
        "def pointwise_feedforward(inputs, num_units = [None, None], activation = None):\n",
        "    outputs = tf.layers.conv1d(\n",
        "        inputs, num_units[0], kernel_size = 1, activation = activation\n",
        "    )\n",
        "    outputs = tf.layers.conv1d(\n",
        "        outputs, num_units[1], kernel_size = 1, activation = None\n",
        "    )\n",
        "    outputs += inputs\n",
        "    outputs = layer_norm(outputs)\n",
        "    return outputs\n",
        "\n",
        "\n",
        "class Model:\n",
        "    def __init__(\n",
        "        self,\n",
        "        dimension_input,\n",
        "        dimension_output,\n",
        "        seq_len,\n",
        "        learning_rate,\n",
        "        num_heads = 8,\n",
        "        attn_windows = range(1, 6),\n",
        "    ):\n",
        "        self.size_layer = dimension_input\n",
        "        self.num_heads = num_heads\n",
        "        self.seq_len = seq_len\n",
        "        self.X = tf.placeholder(tf.float32, [None, seq_len, dimension_input])\n",
        "        self.Y = tf.placeholder(tf.float32, [None, dimension_output])\n",
        "        feed = self.X\n",
        "        for i, win_size in enumerate(attn_windows):\n",
        "            with tf.variable_scope('attn_masked_window_%d' % win_size):\n",
        "                feed = self.multihead_attn(feed, self.window_mask(win_size))\n",
        "        feed += learned_positional_encoding(feed, dimension_input)\n",
        "        with tf.variable_scope('multihead'):\n",
        "            feed = self.multihead_attn(feed, None)\n",
        "        with tf.variable_scope('pointwise'):\n",
        "            feed = pointwise_feedforward(\n",
        "                feed,\n",
        "                num_units = [4 * dimension_input, dimension_input],\n",
        "                activation = tf.nn.relu,\n",
        "            )\n",
        "        self.logits = tf.layers.dense(feed, dimension_output)[:, -1]\n",
        "        self.cost = tf.reduce_mean(tf.square(self.Y - self.logits))\n",
        "        self.optimizer = tf.train.AdamOptimizer(\n",
        "            learning_rate = learning_rate\n",
        "        ).minimize(self.cost)\n",
        "        self.correct_pred = tf.equal(\n",
        "            tf.argmax(self.logits, 1), tf.argmax(self.Y, 1)\n",
        "        )\n",
        "        self.accuracy = tf.reduce_mean(tf.cast(self.correct_pred, tf.float32))\n",
        "\n",
        "    def multihead_attn(self, inputs, masks):\n",
        "        T_q = T_k = inputs.get_shape().as_list()[1]\n",
        "        Q_K_V = tf.layers.dense(inputs, 3 * self.size_layer, tf.nn.relu)\n",
        "        Q, K, V = tf.split(Q_K_V, 3, -1)\n",
        "        Q_ = tf.concat(tf.split(Q, self.num_heads, axis = 2), axis = 0)\n",
        "        K_ = tf.concat(tf.split(K, self.num_heads, axis = 2), axis = 0)\n",
        "        V_ = tf.concat(tf.split(V, self.num_heads, axis = 2), axis = 0)\n",
        "        align = tf.matmul(Q_, tf.transpose(K_, [0, 2, 1]))\n",
        "        align = align / np.sqrt(K_.get_shape().as_list()[-1])\n",
        "        if masks is not None:\n",
        "            paddings = tf.fill(tf.shape(align), float('-inf'))\n",
        "            align = tf.where(tf.equal(masks, 0), paddings, align)\n",
        "        align = tf.nn.softmax(align)\n",
        "        outputs = tf.matmul(align, V_)\n",
        "        outputs = tf.concat(\n",
        "            tf.split(outputs, self.num_heads, axis = 0), axis = 2\n",
        "        )\n",
        "        outputs += inputs\n",
        "        return layer_norm(outputs)\n",
        "\n",
        "    def window_mask(self, h_w):\n",
        "        masks = np.zeros([self.seq_len, self.seq_len])\n",
        "        for i in range(self.seq_len):\n",
        "            if i < h_w:\n",
        "                masks[i, : i + h_w + 1] = 1.0\n",
        "            elif i > self.seq_len - h_w - 1:\n",
        "                masks[i, i - h_w :] = 1.0\n",
        "            else:\n",
        "                masks[i, i - h_w : i + h_w + 1] = 1.0\n",
        "        masks = tf.convert_to_tensor(masks)\n",
        "        return tf.tile(\n",
        "            tf.expand_dims(masks, 0),\n",
        "            [tf.shape(self.X)[0] * self.num_heads, 1, 1],\n",
        "        )"
      ],
      "execution_count": 0,
      "outputs": []
    },
    {
      "cell_type": "code",
      "metadata": {
        "id": "Og1zoDIudN8t",
        "colab_type": "code",
        "outputId": "d850af98-3c4c-42cb-ba66-68f8ba468720",
        "colab": {
          "base_uri": "https://localhost:8080/",
          "height": 70
        }
      },
      "source": [
        "tf.reset_default_graph()\n",
        "modelnn = Model(\n",
        "    df_log.shape[1],\n",
        "    df_log.shape[1],\n",
        "    timestamp,\n",
        "    0.01,\n",
        "    num_heads = df_log.shape[1],\n",
        ")\n",
        "sess = tf.InteractiveSession()\n",
        "sess.run(tf.global_variables_initializer())"
      ],
      "execution_count": 0,
      "outputs": [
        {
          "output_type": "stream",
          "text": [
            "/usr/local/lib/python3.6/dist-packages/tensorflow/python/client/session.py:1735: UserWarning: An interactive session is already active. This can cause out-of-memory errors in some cases. You must explicitly call `InteractiveSession.close()` to release resources held by the other session(s).\n",
            "  warnings.warn('An interactive session is already active. This can '\n"
          ],
          "name": "stderr"
        }
      ]
    },
    {
      "cell_type": "code",
      "metadata": {
        "id": "NypxvZ9QdN8v",
        "colab_type": "code",
        "colab": {}
      },
      "source": [
        "for i in range(epoch):\n",
        "    total_loss = 0\n",
        "    for k in range(0, (df_log.shape[0] // timestamp) * timestamp, timestamp):\n",
        "        batch_x = np.expand_dims(\n",
        "            df_log.iloc[k : k + timestamp].values, axis = 0\n",
        "        )\n",
        "        batch_y = df_log.iloc[k + 1 : k + timestamp + 1].values\n",
        "        _, loss = sess.run(\n",
        "            [modelnn.optimizer, modelnn.cost],\n",
        "            feed_dict = {modelnn.X: batch_x, modelnn.Y: batch_y},\n",
        "        )\n",
        "        total_loss += loss\n",
        "    total_loss /= df_log.shape[0] // timestamp\n",
        "    if (i + 1) % 100 == 0:\n",
        "        print('epoch:', i + 1, 'avg loss:', total_loss)"
      ],
      "execution_count": 0,
      "outputs": []
    },
    {
      "cell_type": "code",
      "metadata": {
        "id": "EPVuWiMVdN8y",
        "colab_type": "code",
        "colab": {}
      },
      "source": [
        "output_predict = np.zeros((df_log.shape[0] + future_day, df_log.shape[1]))\n",
        "output_predict[0] = df_log.iloc[0]\n",
        "upper_b = (df_log.shape[0] // timestamp) * timestamp\n",
        "\n",
        "for k in range(0, (df_log.shape[0] // timestamp) * timestamp, timestamp):\n",
        "    out_logits = sess.run(\n",
        "        modelnn.logits,\n",
        "        feed_dict = {\n",
        "            modelnn.X: np.expand_dims(df_log.iloc[k : k + timestamp], axis = 0)\n",
        "        },\n",
        "    )\n",
        "    output_predict[k + 1 : k + timestamp + 1] = out_logits\n",
        "\n",
        "df_log.loc[df_log.shape[0]] = out_logits[-1]\n",
        "date_ori.append(date_ori[-1] + timedelta(days = 1))"
      ],
      "execution_count": 0,
      "outputs": []
    },
    {
      "cell_type": "code",
      "metadata": {
        "id": "akaQ0RehdN80",
        "colab_type": "code",
        "colab": {}
      },
      "source": [
        "for i in range(future_day - 1):\n",
        "    out_logits = sess.run(\n",
        "        modelnn.logits,\n",
        "        feed_dict = {\n",
        "            modelnn.X: np.expand_dims(df_log.iloc[-timestamp:], axis = 0)\n",
        "        },\n",
        "    )\n",
        "    output_predict[df_log.shape[0]] = out_logits[-1]\n",
        "    df_log.loc[df_log.shape[0]] = out_logits[-1]\n",
        "    date_ori.append(date_ori[-1] + timedelta(days = 1))"
      ],
      "execution_count": 0,
      "outputs": []
    },
    {
      "cell_type": "code",
      "metadata": {
        "id": "2EFlUUs1dN82",
        "colab_type": "code",
        "colab": {}
      },
      "source": [
        "df_log = minmax.inverse_transform(df_log.values)\n",
        "date_ori = pd.Series(date_ori).dt.strftime(date_format = '%Y-%m-%d').tolist()"
      ],
      "execution_count": 0,
      "outputs": []
    },
    {
      "cell_type": "code",
      "metadata": {
        "id": "ArOKr0eFdN85",
        "colab_type": "code",
        "colab": {}
      },
      "source": [
        "def anchor(signal, weight):\n",
        "    buffer = []\n",
        "    last = signal[0]\n",
        "    for i in signal:\n",
        "        smoothed_val = last * weight + (1 - weight) * i\n",
        "        buffer.append(smoothed_val)\n",
        "        last = smoothed_val\n",
        "    return buffer"
      ],
      "execution_count": 0,
      "outputs": []
    },
    {
      "cell_type": "code",
      "metadata": {
        "id": "zQGFd44xdN88",
        "colab_type": "code",
        "outputId": "da652e17-5df5-4e9b-cc17-3b672cb6194f",
        "colab": {
          "base_uri": "https://localhost:8080/",
          "height": 610
        }
      },
      "source": [
        "current_palette = sns.color_palette('Paired', 12)\n",
        "fig = plt.figure(figsize = (15, 10))\n",
        "ax = plt.subplot(111)\n",
        "x_range_original = np.arange(df.shape[0])\n",
        "x_range_future = np.arange(df_log.shape[0])\n",
        "ax.plot(\n",
        "    x_range_original,\n",
        "    df.iloc[:, 1],\n",
        "    label = '2330',\n",
        "    color = current_palette[0],\n",
        ")\n",
        "ax.plot(\n",
        "    x_range_future,\n",
        "    anchor(df_log[:, 0], 0.5),\n",
        "    label = 'predict 2330',\n",
        "    color = current_palette[1],\n",
        ")\n",
        "\n",
        "plt.title('overlap stock market')\n",
        "plt.xticks(x_range_future[::600], date_ori[::600])\n",
        "plt.show()"
      ],
      "execution_count": 0,
      "outputs": [
        {
          "output_type": "display_data",
          "data": {
            "image/png": "[encoded data removed]",
            "text/plain": [
              "<Figure size 1080x720 with 1 Axes>"
            ]
          },
          "metadata": {
            "tags": []
          }
        }
      ]
    },
    {
      "cell_type": "code",
      "metadata": {
        "id": "PhngdtS6dN9H",
        "colab_type": "code",
        "colab": {}
      },
      "source": [
        ""
      ],
      "execution_count": 0,
      "outputs": []
    }
  ]
}
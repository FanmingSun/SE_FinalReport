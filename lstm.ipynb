{
  "nbformat": 4,
  "nbformat_minor": 0,
  "metadata": {
    "colab": {
      "name": "1.lstm.ipynb",
      "version": "0.3.2",
      "provenance": []
    },
    "language_info": {
      "codemirror_mode": {
        "name": "ipython",
        "version": 3
      },
      "file_extension": ".py",
      "mimetype": "text/x-python",
      "name": "python",
      "nbconvert_exporter": "python",
      "pygments_lexer": "ipython3",
      "version": "3.6.8"
    },
    "kernelspec": {
      "display_name": "Python 3",
      "language": "python",
      "name": "python3"
    }
  },
  "cells": [
    {
      "cell_type": "code",
      "metadata": {
        "id": "DuF77QN_rwqI",
        "colab_type": "code",
        "colab": {}
      },
      "source": [
        "import tensorflow as tf\n",
        "import numpy as np\n",
        "import matplotlib.pyplot as plt\n",
        "import seaborn as sns\n",
        "import pandas as pd\n",
        "from sklearn.preprocessing import MinMaxScaler\n",
        "from datetime import datetime\n",
        "from datetime import timedelta\n",
        "sns.set()"
      ],
      "execution_count": 0,
      "outputs": []
    },
    {
      "cell_type": "code",
      "metadata": {
        "id": "6xbepa3FrwqP",
        "colab_type": "code",
        "outputId": "6c1fade3-8b38-474b-f772-50594bc95e50",
        "colab": {
          "base_uri": "https://localhost:8080/",
          "height": 214
        }
      },
      "source": [
        "from google.colab import drive\n",
        "drive.mount('/content/gdrive')\n",
        "df = pd.read_csv('/content/gdrive/My Drive/Stock-Prediction-Models-master/dataset/uploaded.csv')\n",
        "date_ori = pd.to_datetime(df.iloc[:, 0]).tolist()\n",
        "df.head()"
      ],
      "execution_count": 2,
      "outputs": [
        {
          "output_type": "stream",
          "text": [
            "Drive already mounted at /content/gdrive; to attempt to forcibly remount, call drive.mount(\"/content/gdrive\", force_remount=True).\n"
          ],
          "name": "stdout"
        },
        {
          "output_type": "execute_result",
          "data": {
            "text/html": [
              "<div>\n",
              "<style scoped>\n",
              "    .dataframe tbody tr th:only-of-type {\n",
              "        vertical-align: middle;\n",
              "    }\n",
              "\n",
              "    .dataframe tbody tr th {\n",
              "        vertical-align: top;\n",
              "    }\n",
              "\n",
              "    .dataframe thead th {\n",
              "        text-align: right;\n",
              "    }\n",
              "</style>\n",
              "<table border=\"1\" class=\"dataframe\">\n",
              "  <thead>\n",
              "    <tr style=\"text-align: right;\">\n",
              "      <th></th>\n",
              "      <th>Unnamed: 0</th>\n",
              "      <th>2330.TW</th>\n",
              "      <th>TWD</th>\n",
              "      <th>TAIEX</th>\n",
              "      <th>SOX</th>\n",
              "      <th>TAIBOR</th>\n",
              "      <th>DIJA</th>\n",
              "    </tr>\n",
              "  </thead>\n",
              "  <tbody>\n",
              "    <tr>\n",
              "      <th>0</th>\n",
              "      <td>2009/1/5</td>\n",
              "      <td>46.02</td>\n",
              "      <td>33.00</td>\n",
              "      <td>4698.31</td>\n",
              "      <td>223.29</td>\n",
              "      <td>1.02</td>\n",
              "      <td>8952.89</td>\n",
              "    </tr>\n",
              "    <tr>\n",
              "      <th>1</th>\n",
              "      <td>2009/1/6</td>\n",
              "      <td>45.37</td>\n",
              "      <td>33.10</td>\n",
              "      <td>4727.26</td>\n",
              "      <td>234.56</td>\n",
              "      <td>1.02</td>\n",
              "      <td>9015.10</td>\n",
              "    </tr>\n",
              "    <tr>\n",
              "      <th>2</th>\n",
              "      <td>2009/1/7</td>\n",
              "      <td>44.33</td>\n",
              "      <td>33.03</td>\n",
              "      <td>4789.84</td>\n",
              "      <td>223.12</td>\n",
              "      <td>1.02</td>\n",
              "      <td>8769.70</td>\n",
              "    </tr>\n",
              "    <tr>\n",
              "      <th>3</th>\n",
              "      <td>2009/1/8</td>\n",
              "      <td>41.34</td>\n",
              "      <td>33.10</td>\n",
              "      <td>4535.79</td>\n",
              "      <td>222.54</td>\n",
              "      <td>0.62</td>\n",
              "      <td>8742.46</td>\n",
              "    </tr>\n",
              "    <tr>\n",
              "      <th>4</th>\n",
              "      <td>2009/1/9</td>\n",
              "      <td>40.80</td>\n",
              "      <td>33.20</td>\n",
              "      <td>4502.74</td>\n",
              "      <td>215.28</td>\n",
              "      <td>0.62</td>\n",
              "      <td>8599.18</td>\n",
              "    </tr>\n",
              "  </tbody>\n",
              "</table>\n",
              "</div>"
            ],
            "text/plain": [
              "  Unnamed: 0  2330.TW    TWD    TAIEX     SOX  TAIBOR     DIJA\n",
              "0   2009/1/5    46.02  33.00  4698.31  223.29    1.02  8952.89\n",
              "1   2009/1/6    45.37  33.10  4727.26  234.56    1.02  9015.10\n",
              "2   2009/1/7    44.33  33.03  4789.84  223.12    1.02  8769.70\n",
              "3   2009/1/8    41.34  33.10  4535.79  222.54    0.62  8742.46\n",
              "4   2009/1/9    40.80  33.20  4502.74  215.28    0.62  8599.18"
            ]
          },
          "metadata": {
            "tags": []
          },
          "execution_count": 2
        }
      ]
    },
    {
      "cell_type": "code",
      "metadata": {
        "id": "xHKeWL44rwqR",
        "colab_type": "code",
        "colab": {
          "base_uri": "https://localhost:8080/",
          "height": 197
        },
        "outputId": "9eedd27f-d63c-4747-f6f0-f410cda90d9a"
      },
      "source": [
        "minmax = MinMaxScaler().fit(df.iloc[:, 1:].astype('float32'))\n",
        "df_log = minmax.transform(df.iloc[:, 1:].astype('float32'))\n",
        "df_log = pd.DataFrame(df_log)\n",
        "df_log.head()"
      ],
      "execution_count": 3,
      "outputs": [
        {
          "output_type": "execute_result",
          "data": {
            "text/html": [
              "<div>\n",
              "<style scoped>\n",
              "    .dataframe tbody tr th:only-of-type {\n",
              "        vertical-align: middle;\n",
              "    }\n",
              "\n",
              "    .dataframe tbody tr th {\n",
              "        vertical-align: top;\n",
              "    }\n",
              "\n",
              "    .dataframe thead th {\n",
              "        text-align: right;\n",
              "    }\n",
              "</style>\n",
              "<table border=\"1\" class=\"dataframe\">\n",
              "  <thead>\n",
              "    <tr style=\"text-align: right;\">\n",
              "      <th></th>\n",
              "      <th>0</th>\n",
              "      <th>1</th>\n",
              "      <th>2</th>\n",
              "      <th>3</th>\n",
              "      <th>4</th>\n",
              "      <th>5</th>\n",
              "    </tr>\n",
              "  </thead>\n",
              "  <tbody>\n",
              "    <tr>\n",
              "      <th>0</th>\n",
              "      <td>0.029214</td>\n",
              "      <td>0.670641</td>\n",
              "      <td>0.065003</td>\n",
              "      <td>0.027305</td>\n",
              "      <td>1.000000</td>\n",
              "      <td>0.118623</td>\n",
              "    </tr>\n",
              "    <tr>\n",
              "      <th>1</th>\n",
              "      <td>0.026346</td>\n",
              "      <td>0.685544</td>\n",
              "      <td>0.069132</td>\n",
              "      <td>0.036271</td>\n",
              "      <td>1.000000</td>\n",
              "      <td>0.121691</td>\n",
              "    </tr>\n",
              "    <tr>\n",
              "      <th>2</th>\n",
              "      <td>0.021756</td>\n",
              "      <td>0.675112</td>\n",
              "      <td>0.078059</td>\n",
              "      <td>0.027169</td>\n",
              "      <td>1.000000</td>\n",
              "      <td>0.109591</td>\n",
              "    </tr>\n",
              "    <tr>\n",
              "      <th>3</th>\n",
              "      <td>0.008561</td>\n",
              "      <td>0.685544</td>\n",
              "      <td>0.041820</td>\n",
              "      <td>0.026708</td>\n",
              "      <td>0.534884</td>\n",
              "      <td>0.108248</td>\n",
              "    </tr>\n",
              "    <tr>\n",
              "      <th>4</th>\n",
              "      <td>0.006178</td>\n",
              "      <td>0.700447</td>\n",
              "      <td>0.037106</td>\n",
              "      <td>0.020932</td>\n",
              "      <td>0.534884</td>\n",
              "      <td>0.101183</td>\n",
              "    </tr>\n",
              "  </tbody>\n",
              "</table>\n",
              "</div>"
            ],
            "text/plain": [
              "          0         1         2         3         4         5\n",
              "0  0.029214  0.670641  0.065003  0.027305  1.000000  0.118623\n",
              "1  0.026346  0.685544  0.069132  0.036271  1.000000  0.121691\n",
              "2  0.021756  0.675112  0.078059  0.027169  1.000000  0.109591\n",
              "3  0.008561  0.685544  0.041820  0.026708  0.534884  0.108248\n",
              "4  0.006178  0.700447  0.037106  0.020932  0.534884  0.101183"
            ]
          },
          "metadata": {
            "tags": []
          },
          "execution_count": 3
        }
      ]
    },
    {
      "cell_type": "code",
      "metadata": {
        "id": "k0onBE1orwqU",
        "colab_type": "code",
        "colab": {}
      },
      "source": [
        "class Model:\n",
        "    def __init__(\n",
        "        self,\n",
        "        learning_rate,\n",
        "        num_layers,\n",
        "        size,\n",
        "        size_layer,\n",
        "        output_size,\n",
        "        forget_bias = 0.1,\n",
        "    ):\n",
        "        def lstm_cell(size_layer):\n",
        "            return tf.nn.rnn_cell.LSTMCell(size_layer, state_is_tuple = False)\n",
        "\n",
        "        rnn_cells = tf.nn.rnn_cell.MultiRNNCell(\n",
        "            [lstm_cell(size_layer) for _ in range(num_layers)],\n",
        "            state_is_tuple = False,\n",
        "        )\n",
        "        self.X = tf.placeholder(tf.float32, (None, None, size))\n",
        "        self.Y = tf.placeholder(tf.float32, (None, output_size))\n",
        "        drop = tf.contrib.rnn.DropoutWrapper(\n",
        "            rnn_cells, output_keep_prob = forget_bias\n",
        "        )\n",
        "        self.hidden_layer = tf.placeholder(\n",
        "            tf.float32, (None, num_layers * 2 * size_layer)\n",
        "        )\n",
        "        self.outputs, self.last_state = tf.nn.dynamic_rnn(\n",
        "            drop, self.X, initial_state = self.hidden_layer, dtype = tf.float32\n",
        "        )\n",
        "        self.logits = tf.layers.dense(self.outputs[-1], output_size)\n",
        "        self.cost = tf.reduce_mean(tf.square(self.Y - self.logits))\n",
        "        self.optimizer = tf.train.AdamOptimizer(learning_rate).minimize(\n",
        "            self.cost\n",
        "        )"
      ],
      "execution_count": 0,
      "outputs": []
    },
    {
      "cell_type": "code",
      "metadata": {
        "id": "AOr0p4rprwqW",
        "colab_type": "code",
        "colab": {}
      },
      "source": [
        "num_layers = 1\n",
        "size_layer = 128\n",
        "timestamp = 5\n",
        "epoch = 100\n",
        "dropout_rate = 0.7\n",
        "future_day = 50"
      ],
      "execution_count": 0,
      "outputs": []
    },
    {
      "cell_type": "code",
      "metadata": {
        "id": "hvw-wBXkrwqY",
        "colab_type": "code",
        "colab": {
          "base_uri": "https://localhost:8080/",
          "height": 503
        },
        "outputId": "fedceb9d-06fd-499a-e34d-bcfdf6c0212f"
      },
      "source": [
        "tf.reset_default_graph()\n",
        "modelnn = Model(\n",
        "    0.01, num_layers, df_log.shape[1], size_layer, df_log.shape[1], dropout_rate\n",
        ")\n",
        "sess = tf.InteractiveSession()\n",
        "sess.run(tf.global_variables_initializer())"
      ],
      "execution_count": 7,
      "outputs": [
        {
          "output_type": "stream",
          "text": [
            "WARNING: Logging before flag parsing goes to stderr.\n",
            "W0619 07:29:05.390045 140179331450752 deprecation.py:323] From <ipython-input-4-2e6c344df6fd>:12: LSTMCell.__init__ (from tensorflow.python.ops.rnn_cell_impl) is deprecated and will be removed in a future version.\n",
            "Instructions for updating:\n",
            "This class is equivalent as tf.keras.layers.LSTMCell, and will be replaced by that in Tensorflow 2.0.\n",
            "W0619 07:29:05.423872 140179331450752 rnn_cell_impl.py:893] <tensorflow.python.ops.rnn_cell_impl.LSTMCell object at 0x7f7dc720cc88>: Using a concatenated state is slower and will soon be deprecated.  Use state_is_tuple=True.\n",
            "W0619 07:29:05.426329 140179331450752 deprecation.py:323] From <ipython-input-4-2e6c344df6fd>:16: MultiRNNCell.__init__ (from tensorflow.python.ops.rnn_cell_impl) is deprecated and will be removed in a future version.\n",
            "Instructions for updating:\n",
            "This class is equivalent as tf.keras.layers.StackedRNNCells, and will be replaced by that in Tensorflow 2.0.\n",
            "W0619 07:29:06.363779 140179331450752 lazy_loader.py:50] \n",
            "The TensorFlow contrib module will not be included in TensorFlow 2.0.\n",
            "For more information, please see:\n",
            "  * https://github.com/tensorflow/community/blob/master/rfcs/20180907-contrib-sunset.md\n",
            "  * https://github.com/tensorflow/addons\n",
            "  * https://github.com/tensorflow/io (for I/O related ops)\n",
            "If you depend on functionality not listed there, please file an issue.\n",
            "\n",
            "W0619 07:29:06.370942 140179331450752 deprecation.py:323] From <ipython-input-4-2e6c344df6fd>:27: dynamic_rnn (from tensorflow.python.ops.rnn) is deprecated and will be removed in a future version.\n",
            "Instructions for updating:\n",
            "Please use `keras.layers.RNN(cell)`, which is equivalent to this API\n",
            "W0619 07:29:06.860944 140179331450752 deprecation.py:506] From /usr/local/lib/python3.6/dist-packages/tensorflow/python/ops/init_ops.py:1251: calling VarianceScaling.__init__ (from tensorflow.python.ops.init_ops) with dtype is deprecated and will be removed in a future version.\n",
            "Instructions for updating:\n",
            "Call initializer instance with the dtype argument instead of passing it to the constructor\n",
            "W0619 07:29:06.877995 140179331450752 deprecation.py:506] From /usr/local/lib/python3.6/dist-packages/tensorflow/python/ops/rnn_cell_impl.py:961: calling Zeros.__init__ (from tensorflow.python.ops.init_ops) with dtype is deprecated and will be removed in a future version.\n",
            "Instructions for updating:\n",
            "Call initializer instance with the dtype argument instead of passing it to the constructor\n",
            "W0619 07:29:08.127806 140179331450752 deprecation.py:323] From <ipython-input-4-2e6c344df6fd>:29: dense (from tensorflow.python.layers.core) is deprecated and will be removed in a future version.\n",
            "Instructions for updating:\n",
            "Use keras.layers.dense instead.\n"
          ],
          "name": "stderr"
        }
      ]
    },
    {
      "cell_type": "code",
      "metadata": {
        "id": "FeJArL4Vrwqa",
        "colab_type": "code",
        "colab": {
          "base_uri": "https://localhost:8080/",
          "height": 33
        },
        "outputId": "64ccbdb8-6497-4f86-ed51-c4d0a624c26d"
      },
      "source": [
        "for i in range(epoch):\n",
        "    init_value = np.zeros((1, num_layers * 2 * size_layer))\n",
        "    total_loss = 0\n",
        "    for k in range(0, df_log.shape[0] - 1, timestamp):\n",
        "        index = min(k + timestamp, df_log.shape[0] -1)\n",
        "        batch_x = np.expand_dims(\n",
        "            df_log.iloc[k : index, :].values, axis = 0\n",
        "        )\n",
        "        batch_y = df_log.iloc[k + 1 : index + 1, :].values\n",
        "        last_state, _, loss = sess.run(\n",
        "            [modelnn.last_state, modelnn.optimizer, modelnn.cost],\n",
        "            feed_dict = {\n",
        "                modelnn.X: batch_x,\n",
        "                modelnn.Y: batch_y,\n",
        "                modelnn.hidden_layer: init_value,\n",
        "            },\n",
        "        )\n",
        "        init_value = last_state\n",
        "        total_loss += loss\n",
        "    total_loss /= df_log.shape[0] // timestamp\n",
        "    if (i + 1) % 100 == 0:\n",
        "        print('epoch:', i + 1, 'avg loss:', total_loss)"
      ],
      "execution_count": 8,
      "outputs": [
        {
          "output_type": "stream",
          "text": [
            "epoch: 100 avg loss: 0.0019548614401000775\n"
          ],
          "name": "stdout"
        }
      ]
    },
    {
      "cell_type": "code",
      "metadata": {
        "id": "zofKZkzWrwqc",
        "colab_type": "code",
        "colab": {}
      },
      "source": [
        "output_predict = np.zeros((df_log.shape[0] + future_day, df_log.shape[1]))\n",
        "output_predict[0] = df_log.iloc[0]\n",
        "upper_b = (df_log.shape[0] // timestamp) * timestamp\n",
        "init_value = np.zeros((1, num_layers * 2 * size_layer))\n",
        "for k in range(0, (df_log.shape[0] // timestamp) * timestamp, timestamp):\n",
        "    out_logits, last_state = sess.run(\n",
        "        [modelnn.logits, modelnn.last_state],\n",
        "        feed_dict = {\n",
        "            modelnn.X: np.expand_dims(\n",
        "                df_log.iloc[k : k + timestamp], axis = 0\n",
        "            ),\n",
        "            modelnn.hidden_layer: init_value,\n",
        "        },\n",
        "    )\n",
        "    init_value = last_state\n",
        "    output_predict[k + 1 : k + timestamp + 1] = out_logits\n",
        "\n",
        "out_logits, last_state = sess.run(\n",
        "    [modelnn.logits, modelnn.last_state],\n",
        "    feed_dict = {\n",
        "        modelnn.X: np.expand_dims(df_log.iloc[upper_b:], axis = 0),\n",
        "        modelnn.hidden_layer: init_value,\n",
        "    },\n",
        ")\n",
        "init_value = last_state\n",
        "output_predict[upper_b + 1 : df_log.shape[0] + 1] = out_logits\n",
        "df_log.loc[df_log.shape[0]] = out_logits[-1]\n",
        "date_ori.append(date_ori[-1] + timedelta(days = 1))"
      ],
      "execution_count": 0,
      "outputs": []
    },
    {
      "cell_type": "code",
      "metadata": {
        "id": "z16hbRGkrwqe",
        "colab_type": "code",
        "colab": {}
      },
      "source": [
        "for i in range(future_day - 1):\n",
        "    out_logits, last_state = sess.run(\n",
        "        [modelnn.logits, modelnn.last_state],\n",
        "        feed_dict = {\n",
        "            modelnn.X: np.expand_dims(df_log.iloc[-timestamp:], axis = 0),\n",
        "            modelnn.hidden_layer: init_value,\n",
        "        },\n",
        "    )\n",
        "    init_value = last_state\n",
        "    output_predict[df_log.shape[0]] = out_logits[-1]\n",
        "    df_log.loc[df_log.shape[0]] = out_logits[-1]\n",
        "    date_ori.append(date_ori[-1] + timedelta(days = 1))"
      ],
      "execution_count": 0,
      "outputs": []
    },
    {
      "cell_type": "code",
      "metadata": {
        "id": "GK1MdoIfrwqh",
        "colab_type": "code",
        "colab": {}
      },
      "source": [
        "df_log = minmax.inverse_transform(output_predict)\n",
        "date_ori = pd.Series(date_ori).dt.strftime(date_format = '%Y-%m-%d').tolist()"
      ],
      "execution_count": 0,
      "outputs": []
    },
    {
      "cell_type": "code",
      "metadata": {
        "id": "S4DekNwirwqj",
        "colab_type": "code",
        "colab": {}
      },
      "source": [
        "def anchor(signal, weight):\n",
        "    buffer = []\n",
        "    last = signal[0]\n",
        "    for i in signal:\n",
        "        smoothed_val = last * weight + (1 - weight) * i\n",
        "        buffer.append(smoothed_val)\n",
        "        last = smoothed_val\n",
        "    return buffer"
      ],
      "execution_count": 0,
      "outputs": []
    },
    {
      "cell_type": "code",
      "metadata": {
        "id": "uYjQJ0j4rwql",
        "colab_type": "code",
        "colab": {
          "base_uri": "https://localhost:8080/",
          "height": 585
        },
        "outputId": "a71bc9b8-0694-4365-f71f-c1d0006d0c98"
      },
      "source": [
        "current_palette = sns.color_palette('Paired', 12)\n",
        "fig = plt.figure(figsize = (15, 10))\n",
        "ax = plt.subplot(111)\n",
        "x_range_original = np.arange(df.shape[0])\n",
        "x_range_future = np.arange(df_log.shape[0])\n",
        "ax.plot(\n",
        "    x_range_original,\n",
        "    df.iloc[:, 1],\n",
        "    label = '2330.TW',\n",
        "    color = current_palette[0],\n",
        ")\n",
        "ax.plot(\n",
        "    x_range_future,\n",
        "    anchor(df_log[:, 0], 0.5),\n",
        "    label = 'predict 2330.TW',\n",
        "    color = current_palette[1],\n",
        ")\n",
        "\n",
        "box = ax.get_position()\n",
        "ax.set_position(\n",
        "    [box.x0, box.y0 + box.height * 0.1, box.width, box.height * 0.9]\n",
        ")\n",
        "ax.legend(\n",
        "    loc = 'upper center',\n",
        "    bbox_to_anchor = (0.5, -0.05),\n",
        "    fancybox = True,\n",
        "    shadow = True,\n",
        "    ncol = 5,\n",
        ")\n",
        "plt.title('overlap stock market')\n",
        "plt.xticks(x_range_future[::600], date_ori[::600])\n",
        "plt.show()"
      ],
      "execution_count": 15,
      "outputs": [
        {
          "output_type": "display_data",
          "data": {
            "image/png": "[encoded data removed]",
            "text/plain": [
              "<Figure size 1080x720 with 1 Axes>"
            ]
          },
          "metadata": {
            "tags": []
          }
        }
      ]
    },
    {
      "cell_type": "code",
      "metadata": {
        "id": "-IktqNyurwqt",
        "colab_type": "code",
        "colab": {}
      },
      "source": [
        ""
      ],
      "execution_count": 0,
      "outputs": []
    }
  ]
}